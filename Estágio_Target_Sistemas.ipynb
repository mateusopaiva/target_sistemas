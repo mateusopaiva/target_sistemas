{
  "nbformat": 4,
  "nbformat_minor": 0,
  "metadata": {
    "colab": {
      "provenance": [],
      "authorship_tag": "ABX9TyNM8pQ8PR4Qctmnpo1UdNT6",
      "include_colab_link": true
    },
    "kernelspec": {
      "name": "python3",
      "display_name": "Python 3"
    },
    "language_info": {
      "name": "python"
    }
  },
  "cells": [
    {
      "cell_type": "markdown",
      "metadata": {
        "id": "view-in-github",
        "colab_type": "text"
      },
      "source": [
        "<a href=\"https://colab.research.google.com/github/mateusopaiva/target_sistemas/blob/main/Est%C3%A1gio_Target_Sistemas.ipynb\" target=\"_parent\"><img src=\"https://colab.research.google.com/assets/colab-badge.svg\" alt=\"Open In Colab\"/></a>"
      ]
    },
    {
      "cell_type": "markdown",
      "source": [
        "# Estágio Ribeirão Preto - 2024\n",
        "Pergunta 2 de 2"
      ],
      "metadata": {
        "id": "C9EDe27GOcXb"
      }
    },
    {
      "cell_type": "markdown",
      "source": [
        "1) Observe o trecho de código abaixo:\n",
        "\n",
        "int INDICE = 13, SOMA = 0, K = 0;\n",
        "\n",
        "enquanto K < INDICE faça\n",
        "\n",
        "{\n",
        "\n",
        "K = K + 1;\n",
        "\n",
        "SOMA = SOMA + K;\n",
        "\n",
        "}\n",
        "\n",
        "imprimir(SOMA);\n",
        "\n",
        "\n",
        "Ao final do processamento, qual será o valor da variável SOMA?\n"
      ],
      "metadata": {
        "id": "KwW0WTaxOgCp"
      }
    },
    {
      "cell_type": "code",
      "execution_count": 7,
      "metadata": {
        "colab": {
          "base_uri": "https://localhost:8080/"
        },
        "id": "A0wibzTwObQy",
        "outputId": "74cdef6b-768e-467b-e5a5-8f4dea4addc4"
      },
      "outputs": [
        {
          "output_type": "stream",
          "name": "stdout",
          "text": [
            "91\n"
          ]
        }
      ],
      "source": [
        "INDICE = 13\n",
        "SOMA = 0\n",
        "K = 0\n",
        "\n",
        "while K < INDICE:\n",
        "    K = K + 1\n",
        "    SOMA = SOMA + K\n",
        "\n",
        "print(SOMA)\n"
      ]
    },
    {
      "cell_type": "markdown",
      "source": [
        "*Resposta: 91*"
      ],
      "metadata": {
        "id": "b6HnEsG7Pv2d"
      }
    },
    {
      "cell_type": "markdown",
      "source": [
        "2) Dado a sequência de Fibonacci, onde se inicia por 0 e 1 e o próximo valor sempre será a soma dos 2 valores anteriores (exemplo: 0, 1, 1, 2, 3, 5, 8, 13, 21, 34...), escreva um programa na linguagem que desejar onde, informado um número, ele calcule a sequência de Fibonacci e retorne uma mensagem avisando se o número informado pertence ou não a sequência.\n",
        "\n",
        "\n",
        "\n",
        "IMPORTANTE:\n",
        "\n",
        "Esse número pode ser informado através de qualquer entrada de sua preferência ou pode ser previamente definido no código;"
      ],
      "metadata": {
        "id": "6nHJBRRlPBKJ"
      }
    },
    {
      "cell_type": "code",
      "source": [
        "def verifica_fibonacci(numero):\n",
        "    a, b = 0, 1\n",
        "    while b < numero:\n",
        "        a, b = b, a + b\n",
        "    if b == numero:\n",
        "        return True\n",
        "    else:\n",
        "        return False\n",
        "\n",
        "numero = int(input(\"Digite um número para verificar se pertence à sequência de Fibonacci: \"))\n",
        "\n",
        "if verifica_fibonacci(numero):\n",
        "    print(f\"O número {numero} pertence à sequência de Fibonacci.\")\n",
        "else:\n",
        "    print(f\"O número {numero} não pertence à sequência de Fibonacci.\")\n"
      ],
      "metadata": {
        "colab": {
          "base_uri": "https://localhost:8080/"
        },
        "id": "sURxxyuiPBvL",
        "outputId": "a3a3d2ad-38e2-4659-fbef-d1f946cde599"
      },
      "execution_count": 8,
      "outputs": [
        {
          "output_type": "stream",
          "name": "stdout",
          "text": [
            "Digite um número para verificar se pertence à sequência de Fibonacci: 8\n",
            "O número 8 pertence à sequência de Fibonacci.\n"
          ]
        }
      ]
    },
    {
      "cell_type": "markdown",
      "source": [
        "3) Descubra a lógica e complete o próximo elemento:\n",
        "\n",
        "\n",
        "a) 1, 3, 5, 7, ___\n",
        "\n",
        "b) 2, 4, 8, 16, 32, 64, ____\n",
        "\n",
        "c) 0, 1, 4, 9, 16, 25, 36, ____\n",
        "\n",
        "d) 4, 16, 36, 64, ____\n",
        "\n",
        "e) 1, 1, 2, 3, 5, 8, ____\n",
        "\n",
        "f) 2,10, 12, 16, 17, 18, 19, ____"
      ],
      "metadata": {
        "id": "ZISaO9W-Peo5"
      }
    },
    {
      "cell_type": "markdown",
      "source": [
        "*Resposta:*\n",
        "\n",
        "  a) A lógica é somar 2 a cada número. Portanto, o próximo elemento é 7 + 2 = 9.\n",
        "\n",
        "  b) A lógica é dobrar o número anterior. Portanto, o próximo elemento é 64 * 2 = 128.\n",
        "\n",
        "  c) A lógica é seguir a sequência dos quadrados dos números naturais consecutivos. O próximo elemento é 7² = 49.\n",
        "\n",
        "  d) A lógica é seguir a sequência dos quadrados dos números pares consecutivos. O próximo elemento é 10² = 100.\n",
        "\n",
        "  e) A lógica é seguir a sequência de Fibonacci, onde cada número é a soma dos dois números anteriores. Portanto, o próximo elemento é 8 + 5 = 13.\n",
        "\n",
        "  f) A lógica é que todos os números começam com a letra D. Portanto, o próximo elemento é 200."
      ],
      "metadata": {
        "id": "MzlqfmT9Pywu"
      }
    },
    {
      "cell_type": "markdown",
      "source": [
        "4) Você está em uma sala com três interruptores, cada um conectado a uma lâmpada em uma sala diferente. Você não pode ver as lâmpadas da sala em que está, mas pode ligar e desligar os interruptores quantas vezes quiser. Seu objetivo é descobrir qual interruptor controla qual lâmpada.\n",
        "\n",
        "Como você faria para descobrir, usando apenas duas idas até uma das salas das lâmpadas, qual interruptor controla cada lâmpada?"
      ],
      "metadata": {
        "id": "XgkbIGGBRJPn"
      }
    },
    {
      "cell_type": "markdown",
      "source": [
        "*Resposta:*\n",
        "\n",
        "1. Primeira Ida:\n",
        "  * Ligo o primeiro interruptor por alguns minutos e depois o desligo.\n",
        "  * Em seguida, ligo o segundo interruptor e vou até uma das salas.\n",
        "  - Se a lâmpada estiver apagada e quente pertence ao primeiro interruptor.\n",
        "  - Se a lâmpada estiver acesa significa que pertence ao segundo interruptor.\n",
        "  - Se a lâmpada estiver apagada e fria pertence ao terceiro interruptor.\n",
        "2.   Segunda Ida:\n",
        "  - Como já sei a qual lâmpada pertence um interruptor, apenas deixo um ligado e outro desligado entre os que restaram e vou até uma das salas.\n",
        "  - Se a lâmpada estiver acesa significa que pertence ao interruptor que deixei ligado.\n",
        "  - Se a lâmpada estiver apagada significa que pertence ao interruptor que deixei desligado."
      ],
      "metadata": {
        "id": "2YmFn8SMRJ1N"
      }
    },
    {
      "cell_type": "markdown",
      "source": [
        "5) Escreva um programa que inverta os caracteres de um string.\n",
        "\n",
        "\n",
        "IMPORTANTE:\n",
        "\n",
        "a) Essa string pode ser informada através de qualquer entrada de sua preferência ou pode ser previamente definida no código;\n",
        "\n",
        "b) Evite usar funções prontas, como, por exemplo, reverse;"
      ],
      "metadata": {
        "id": "wVBa2FVORSl9"
      }
    },
    {
      "cell_type": "code",
      "source": [
        "def inverter_string(string):\n",
        "    inverted_string = \"\"\n",
        "    for i in range(len(string) - 1, -1, -1):\n",
        "        inverted_string += string[i]\n",
        "    return inverted_string\n",
        "\n",
        "entrada = input(\"Digite uma string: \")\n",
        "string_invertida = inverter_string(entrada)\n",
        "print(\"String invertida:\", string_invertida)\n"
      ],
      "metadata": {
        "colab": {
          "base_uri": "https://localhost:8080/"
        },
        "id": "xQHRNq94RY_k",
        "outputId": "b6fd27df-5ff1-41bd-c4ce-1b2a388d1e1b"
      },
      "execution_count": 9,
      "outputs": [
        {
          "output_type": "stream",
          "name": "stdout",
          "text": [
            "Digite uma string: Target Sistemas\n",
            "String invertida: sametsiS tegraT\n"
          ]
        }
      ]
    }
  ]
}